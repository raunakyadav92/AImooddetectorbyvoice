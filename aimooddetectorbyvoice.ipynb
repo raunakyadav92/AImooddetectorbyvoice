{
  "nbformat": 4,
  "nbformat_minor": 0,
  "metadata": {
    "colab": {
      "provenance": [],
      "authorship_tag": "ABX9TyPrW4Cfcj3PclGTDjDHvMqO",
      "include_colab_link": true
    },
    "kernelspec": {
      "name": "python3",
      "display_name": "Python 3"
    },
    "language_info": {
      "name": "python"
    }
  },
  "cells": [
    {
      "cell_type": "markdown",
      "metadata": {
        "id": "view-in-github",
        "colab_type": "text"
      },
      "source": [
        "<a href=\"https://colab.research.google.com/github/raunakyadav92/AImooddetectorbyvoice/blob/main/aimooddetectorbyvoice.ipynb\" target=\"_parent\"><img src=\"https://colab.research.google.com/assets/colab-badge.svg\" alt=\"Open In Colab\"/></a>"
      ]
    },
    {
      "cell_type": "code",
      "execution_count": null,
      "metadata": {
        "id": "E8laOqCyD_RY"
      },
      "outputs": [],
      "source": [
        "import sounddevice as sd\n",
        "import librosa\n",
        "import numpy as np\n",
        "import wavio\n",
        "\n",
        "def record_audio(duration=3, fs=22050):\n",
        "    print(\"🎤 Recording...\")\n",
        "    audio = sd.rec(int(duration * fs), samplerate=fs, channels=1)\n",
        "    sd.wait()\n",
        "    wavio.write('voice.wav', audio, fs, sampwidth=2)\n",
        "    print(\"✅ Recording saved!\")\n",
        "\n",
        "def analyze_mood():\n",
        "    y, sr = librosa.load('voice.wav')\n",
        "    pitch = librosa.yin(y, fmin=50, fmax=300)\n",
        "    avg_pitch = np.mean(pitch)\n",
        "\n",
        "    print(f\"Average Pitch Detected: {avg_pitch:.2f} Hz\")\n",
        "\n",
        "    if avg_pitch > 200:\n",
        "        mood = \"Happy or Excited\"\n",
        "    elif avg_pitch > 140:\n",
        "        mood = \"Normal or Calm\"\n",
        "    else:\n",
        "        mood = \"Sad or Tired\"\n",
        "\n",
        "    print(f\"🎯 Detected Mood: {mood}\")\n",
        "    return mood\n",
        "\n",
        "record_audio()\n",
        "detected_mood = analyze_mood()\n"
      ]
    }
  ]
}